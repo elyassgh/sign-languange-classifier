{
 "cells": [
  {
   "cell_type": "code",
   "execution_count": 93,
   "id": "5265b989",
   "metadata": {},
   "outputs": [],
   "source": [
    "import numpy as np\n",
    "import os\n",
    "import cv2\n",
    "\n",
    "DATADIR = \"C:/Users/PC PRO ULTRA RAPIDE/Desktop/Projects/artificial intelligence/ml/sign-lang/sign-lang-dataset/\"\n",
    "\n",
    "ALPHABETS = [\n",
    "    \"ain\", \"al\", \"aleff\", \"ba\", \"dad\", \"dal\", \"dhad\", \"fa\", \"ghain\", \"ha\",\n",
    "    \"haae\", \"jeem\", \"kaaf\", \"khaa\", \"la\", \"laam\", \"meem\", \"nun\", \"qaf\", \"ra\", \"saad\",\n",
    "    \"seen\", \"sheen\", \"taae\", \"taae2\", \"thaae\", \"thdad\", \"waw\", \"ya\", \"zay\" ]\n",
    "\n",
    "for alphabet in ALPHABETS:\n",
    "        \n",
    "    path = os.path.join(DATADIR, alphabet)\n",
    "    for img in os.listdir(path):\n",
    "        img_array = cv2.imread(os.path.join(path,img), cv2.IMREAD_GRAYSCALE)"
   ]
  },
  {
   "cell_type": "code",
   "execution_count": 168,
   "id": "ff7c3f5e",
   "metadata": {},
   "outputs": [
    {
     "name": "stdout",
     "output_type": "stream",
     "text": [
      "(64, 64)\n"
     ]
    }
   ],
   "source": [
    "print(img_array.shape) # data set well shaped :)"
   ]
  },
  {
   "cell_type": "code",
   "execution_count": 61,
   "id": "00727e6f",
   "metadata": {},
   "outputs": [],
   "source": [
    "training_data = []\n",
    "\n",
    "def create_training_data():\n",
    "    for alphabet in ALPHABETS:\n",
    "        path = os.path.join(DATADIR, alphabet)\n",
    "        class_num = ALPHABETS.index(alphabet)\n",
    "        for img in os.listdir(path):\n",
    "            try:\n",
    "                img_array = cv2.imread(os.path.join(path,img), cv2.IMREAD_GRAYSCALE)\n",
    "                training_data.append([img_array, class_num])\n",
    "            except Exception as e:\n",
    "                pass\n",
    "\n",
    "create_training_data()"
   ]
  },
  {
   "cell_type": "code",
   "execution_count": 62,
   "id": "cd9830a8",
   "metadata": {},
   "outputs": [
    {
     "name": "stdout",
     "output_type": "stream",
     "text": [
      "51174\n"
     ]
    }
   ],
   "source": [
    "print(len(training_data))"
   ]
  },
  {
   "cell_type": "code",
   "execution_count": 68,
   "id": "74a80278",
   "metadata": {},
   "outputs": [],
   "source": [
    "import random\n",
    "\n",
    "random.shuffle(training_data)"
   ]
  },
  {
   "cell_type": "code",
   "execution_count": 235,
   "id": "d4b4b509",
   "metadata": {},
   "outputs": [
    {
     "name": "stderr",
     "output_type": "stream",
     "text": [
      "<ipython-input-235-d61c25d5c88f>:8: VisibleDeprecationWarning: Creating an ndarray from ragged nested sequences (which is a list-or-tuple of lists-or-tuples-or ndarrays with different lengths or shapes) is deprecated. If you meant to do this, you must specify 'dtype=object' when creating the ndarray.\n",
      "  X = np.array(X)\n"
     ]
    }
   ],
   "source": [
    "X = [] # features set\n",
    "y = [] # label set\n",
    "\n",
    "for feature, label in training_data:\n",
    "    X.append(feature)\n",
    "    y.append(label)\n",
    "    \n",
    "X = np.array(X)\n",
    "y = np.array(y)"
   ]
  },
  {
   "cell_type": "code",
   "execution_count": 233,
   "id": "1527e599",
   "metadata": {},
   "outputs": [
    {
     "name": "stdout",
     "output_type": "stream",
     "text": [
      "(51174,)\n",
      "51174\n",
      "51174\n"
     ]
    }
   ],
   "source": [
    "print(X.shape)\n",
    "print(X.size)    \n",
    "print(len(X))"
   ]
  },
  {
   "cell_type": "code",
   "execution_count": null,
   "id": "adea2574",
   "metadata": {},
   "outputs": [],
   "source": [
    "# Saving the data set for later use :)\n",
    "\n",
    "import pickle\n",
    "\n",
    "pickle_out = open(\"X.pickle\", \"wb\")\n",
    "pickle.dump(X, pickle_out)\n",
    "pickle_out.close()\n",
    "\n",
    "pickle_out = open(\"y.pickle\", \"wb\")\n",
    "pickle.dump(y, pickle_out)\n",
    "pickle_out.close()"
   ]
  }
 ],
 "metadata": {
  "kernelspec": {
   "display_name": "Python 3",
   "language": "python",
   "name": "python3"
  },
  "language_info": {
   "codemirror_mode": {
    "name": "ipython",
    "version": 3
   },
   "file_extension": ".py",
   "mimetype": "text/x-python",
   "name": "python",
   "nbconvert_exporter": "python",
   "pygments_lexer": "ipython3",
   "version": "3.8.8"
  }
 },
 "nbformat": 4,
 "nbformat_minor": 5
}
